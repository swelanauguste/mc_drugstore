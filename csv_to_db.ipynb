{
 "cells": [
  {
   "cell_type": "code",
   "execution_count": 1,
   "metadata": {},
   "outputs": [],
   "source": [
    "import csv, sqlite3"
   ]
  },
  {
   "cell_type": "code",
   "execution_count": 6,
   "metadata": {},
   "outputs": [],
   "source": [
    "con = sqlite3.connect(\"mc_drugstore.db\") # change to 'sqlite:///your_filename.db'\n",
    "cur = con.cursor()\n",
    "cur.execute(\"\"\"CREATE TABLE IF NOT EXISTS products(\n",
    "            product_id TEXT PRIMARY KEY, \n",
    "            name TEXT, \n",
    "            category TEXT, \n",
    "            price TEXT, \n",
    "            img_url TEXT,\n",
    "            url TEXT\n",
    "            )\"\"\") # use your column names here\n",
    "\n",
    "with open('products_cleaned.csv','r') as fin: # `with` statement available in 2.5+\n",
    "    # csv.DictReader uses first line in file for column headings by default\n",
    "    dr = csv.DictReader(fin) # comma is default delimiter\n",
    "    to_db = [(i['product_id'], i['name'], i['category'], i['price'], i['img_url'], i['url']) for i in dr]\n",
    "\n",
    "cur.executemany(\"\"\"INSERT INTO products (product_id, name, category, price, img_url, url) VALUES (?, ?, ?, ?, ?, ?)\"\"\", to_db)\n",
    "con.commit()\n",
    "con.close()"
   ]
  },
  {
   "cell_type": "code",
   "execution_count": null,
   "metadata": {},
   "outputs": [],
   "source": []
  }
 ],
 "metadata": {
  "kernelspec": {
   "display_name": "venv",
   "language": "python",
   "name": "python3"
  },
  "language_info": {
   "codemirror_mode": {
    "name": "ipython",
    "version": 3
   },
   "file_extension": ".py",
   "mimetype": "text/x-python",
   "name": "python",
   "nbconvert_exporter": "python",
   "pygments_lexer": "ipython3",
   "version": "3.10.12"
  }
 },
 "nbformat": 4,
 "nbformat_minor": 2
}
